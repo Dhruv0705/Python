{
  "cells": [
    {
      "cell_type": "code",
      "execution_count": 1,
      "metadata": {
        "trusted": true
      },
      "outputs": [
        {
          "data": {
            "text/html": [
              "<div>\n",
              "<style scoped>\n",
              "    .dataframe tbody tr th:only-of-type {\n",
              "        vertical-align: middle;\n",
              "    }\n",
              "\n",
              "    .dataframe tbody tr th {\n",
              "        vertical-align: top;\n",
              "    }\n",
              "\n",
              "    .dataframe thead th {\n",
              "        text-align: right;\n",
              "    }\n",
              "</style>\n",
              "<table border=\"1\" class=\"dataframe\">\n",
              "  <thead>\n",
              "    <tr style=\"text-align: right;\">\n",
              "      <th></th>\n",
              "      <th>time</th>\n",
              "      <th>latitude</th>\n",
              "      <th>longitude</th>\n",
              "      <th>depth</th>\n",
              "      <th>mag</th>\n",
              "      <th>magType</th>\n",
              "      <th>nst</th>\n",
              "      <th>gap</th>\n",
              "      <th>dmin</th>\n",
              "      <th>rms</th>\n",
              "      <th>...</th>\n",
              "      <th>updated</th>\n",
              "      <th>place</th>\n",
              "      <th>type</th>\n",
              "      <th>horizontalError</th>\n",
              "      <th>depthError</th>\n",
              "      <th>magError</th>\n",
              "      <th>magNst</th>\n",
              "      <th>status</th>\n",
              "      <th>locationSource</th>\n",
              "      <th>magSource</th>\n",
              "    </tr>\n",
              "  </thead>\n",
              "  <tbody>\n",
              "    <tr>\n",
              "      <th>0</th>\n",
              "      <td>2021-02-11T17:55:22.563Z</td>\n",
              "      <td>63.134200</td>\n",
              "      <td>-151.509700</td>\n",
              "      <td>0.000000</td>\n",
              "      <td>2.30</td>\n",
              "      <td>ml</td>\n",
              "      <td>NaN</td>\n",
              "      <td>NaN</td>\n",
              "      <td>NaN</td>\n",
              "      <td>0.90</td>\n",
              "      <td>...</td>\n",
              "      <td>2021-02-11T18:06:20.095Z</td>\n",
              "      <td>46 km SSE of Denali National Park, Alaska</td>\n",
              "      <td>earthquake</td>\n",
              "      <td>NaN</td>\n",
              "      <td>0.20</td>\n",
              "      <td>NaN</td>\n",
              "      <td>NaN</td>\n",
              "      <td>automatic</td>\n",
              "      <td>ak</td>\n",
              "      <td>ak</td>\n",
              "    </tr>\n",
              "    <tr>\n",
              "      <th>1</th>\n",
              "      <td>2021-02-11T17:54:28.390Z</td>\n",
              "      <td>19.188168</td>\n",
              "      <td>-155.461670</td>\n",
              "      <td>34.619999</td>\n",
              "      <td>1.90</td>\n",
              "      <td>md</td>\n",
              "      <td>39.0</td>\n",
              "      <td>148.0</td>\n",
              "      <td>NaN</td>\n",
              "      <td>0.13</td>\n",
              "      <td>...</td>\n",
              "      <td>2021-02-11T17:58:04.870Z</td>\n",
              "      <td>2 km SE of Pāhala, Hawaii</td>\n",
              "      <td>earthquake</td>\n",
              "      <td>0.63</td>\n",
              "      <td>0.75</td>\n",
              "      <td>1.840</td>\n",
              "      <td>10.0</td>\n",
              "      <td>automatic</td>\n",
              "      <td>hv</td>\n",
              "      <td>hv</td>\n",
              "    </tr>\n",
              "    <tr>\n",
              "      <th>2</th>\n",
              "      <td>2021-02-11T17:41:05.500Z</td>\n",
              "      <td>36.067500</td>\n",
              "      <td>-117.882000</td>\n",
              "      <td>1.610000</td>\n",
              "      <td>0.86</td>\n",
              "      <td>ml</td>\n",
              "      <td>9.0</td>\n",
              "      <td>196.0</td>\n",
              "      <td>0.054600</td>\n",
              "      <td>0.07</td>\n",
              "      <td>...</td>\n",
              "      <td>2021-02-11T17:44:44.723Z</td>\n",
              "      <td>6km ENE of Coso Junction, CA</td>\n",
              "      <td>earthquake</td>\n",
              "      <td>0.30</td>\n",
              "      <td>0.22</td>\n",
              "      <td>0.176</td>\n",
              "      <td>10.0</td>\n",
              "      <td>automatic</td>\n",
              "      <td>ci</td>\n",
              "      <td>ci</td>\n",
              "    </tr>\n",
              "    <tr>\n",
              "      <th>3</th>\n",
              "      <td>2021-02-11T17:32:20.400Z</td>\n",
              "      <td>38.824501</td>\n",
              "      <td>-122.856003</td>\n",
              "      <td>1.940000</td>\n",
              "      <td>1.34</td>\n",
              "      <td>md</td>\n",
              "      <td>30.0</td>\n",
              "      <td>84.0</td>\n",
              "      <td>0.003115</td>\n",
              "      <td>0.03</td>\n",
              "      <td>...</td>\n",
              "      <td>2021-02-11T17:57:07.561Z</td>\n",
              "      <td>10km WNW of The Geysers, CA</td>\n",
              "      <td>earthquake</td>\n",
              "      <td>0.22</td>\n",
              "      <td>0.34</td>\n",
              "      <td>0.050</td>\n",
              "      <td>6.0</td>\n",
              "      <td>automatic</td>\n",
              "      <td>nc</td>\n",
              "      <td>nc</td>\n",
              "    </tr>\n",
              "    <tr>\n",
              "      <th>4</th>\n",
              "      <td>2021-02-11T17:28:04.060Z</td>\n",
              "      <td>17.939800</td>\n",
              "      <td>-66.949100</td>\n",
              "      <td>6.000000</td>\n",
              "      <td>1.49</td>\n",
              "      <td>md</td>\n",
              "      <td>4.0</td>\n",
              "      <td>285.0</td>\n",
              "      <td>0.099600</td>\n",
              "      <td>0.03</td>\n",
              "      <td>...</td>\n",
              "      <td>2021-02-11T17:55:05.369Z</td>\n",
              "      <td>Puerto Rico region</td>\n",
              "      <td>earthquake</td>\n",
              "      <td>0.57</td>\n",
              "      <td>1.43</td>\n",
              "      <td>0.050</td>\n",
              "      <td>3.0</td>\n",
              "      <td>reviewed</td>\n",
              "      <td>pr</td>\n",
              "      <td>pr</td>\n",
              "    </tr>\n",
              "  </tbody>\n",
              "</table>\n",
              "<p>5 rows × 22 columns</p>\n",
              "</div>"
            ],
            "text/plain": [
              "                       time   latitude   longitude      depth   mag magType  \\\n",
              "0  2021-02-11T17:55:22.563Z  63.134200 -151.509700   0.000000  2.30      ml   \n",
              "1  2021-02-11T17:54:28.390Z  19.188168 -155.461670  34.619999  1.90      md   \n",
              "2  2021-02-11T17:41:05.500Z  36.067500 -117.882000   1.610000  0.86      ml   \n",
              "3  2021-02-11T17:32:20.400Z  38.824501 -122.856003   1.940000  1.34      md   \n",
              "4  2021-02-11T17:28:04.060Z  17.939800  -66.949100   6.000000  1.49      md   \n",
              "\n",
              "    nst    gap      dmin   rms  ...                   updated  \\\n",
              "0   NaN    NaN       NaN  0.90  ...  2021-02-11T18:06:20.095Z   \n",
              "1  39.0  148.0       NaN  0.13  ...  2021-02-11T17:58:04.870Z   \n",
              "2   9.0  196.0  0.054600  0.07  ...  2021-02-11T17:44:44.723Z   \n",
              "3  30.0   84.0  0.003115  0.03  ...  2021-02-11T17:57:07.561Z   \n",
              "4   4.0  285.0  0.099600  0.03  ...  2021-02-11T17:55:05.369Z   \n",
              "\n",
              "                                       place        type horizontalError  \\\n",
              "0  46 km SSE of Denali National Park, Alaska  earthquake             NaN   \n",
              "1                  2 km SE of Pāhala, Hawaii  earthquake            0.63   \n",
              "2               6km ENE of Coso Junction, CA  earthquake            0.30   \n",
              "3                10km WNW of The Geysers, CA  earthquake            0.22   \n",
              "4                         Puerto Rico region  earthquake            0.57   \n",
              "\n",
              "  depthError  magError  magNst     status  locationSource magSource  \n",
              "0       0.20       NaN     NaN  automatic              ak        ak  \n",
              "1       0.75     1.840    10.0  automatic              hv        hv  \n",
              "2       0.22     0.176    10.0  automatic              ci        ci  \n",
              "3       0.34     0.050     6.0  automatic              nc        nc  \n",
              "4       1.43     0.050     3.0   reviewed              pr        pr  \n",
              "\n",
              "[5 rows x 22 columns]"
            ]
          },
          "execution_count": 1,
          "metadata": {},
          "output_type": "execute_result"
        }
      ],
      "source": [
        "#Import pandas and NumPy\n",
        "import pandas as pd\n",
        "import numpy as np\n",
        "import matplotlib.pyplot as plt\n",
        "\n",
        "#Reads the file and prints the csv column and info\n",
        "earthquakeData= pd.read_csv('all_month.csv')\n",
        "earthquakeData.head()\n",
        "\n"
      ]
    },
    {
      "cell_type": "code",
      "execution_count": 3,
      "metadata": {
        "trusted": true
      },
      "outputs": [],
      "source": [
        "#Stores magnitude data in a list\n",
        "magnitudeData = earthquakeData[\"mag\"]\n",
        "\n",
        "#stores the variable according to basic stats on magnitude\n",
        "minimum = min(magnitudeData)\n",
        "maximum = max(magnitudeData)\n",
        "median = np.median(magnitudeData)\n",
        "mean = np.mean(magnitudeData)\n",
        "\n",
        "percentile75th = earthquakeData[\"mag\"].quantile(0.75)\n",
        "percentile25th = earthquakeData[\"mag\"].quantile(0.25)\n"
      ]
    },
    {
      "cell_type": "code",
      "execution_count": 4,
      "metadata": {
        "trusted": true
      },
      "outputs": [
        {
          "name": "stdout",
          "output_type": "stream",
          "text": [
            "Min =  -1.31\n",
            "Max =  7.7\n",
            "Median =  nan\n",
            "Mean = 1.6649625935854808\n",
            "25th Percentile =  0.9\n",
            "75th Percentile =  2.07\n"
          ]
        }
      ],
      "source": [
        "#Print the minimum, maximum, median, mean, 25th and 75th percentile.\n",
        "print(\"Min = \", minimum)\n",
        "print(\"Max = \", maximum)\n",
        "print(\"Median = \", median)\n",
        "print(\"Mean =\", mean)\n",
        "print(\"25th Percentile = \", percentile25th)\n",
        "print(\"75th Percentile = \", percentile75th)"
      ]
    },
    {
      "cell_type": "code",
      "execution_count": 6,
      "metadata": {
        "trusted": true
      },
      "outputs": [
        {
          "name": "stdout",
          "output_type": "stream",
          "text": [
            "Average magnitude in ml:  1.3647376834762386\n"
          ]
        }
      ],
      "source": [
        "#Finds the average magnitude in ml\n",
        "average_list= earthquakeData.loc[earthquakeData['magType'] == 'ml']\n",
        "\n",
        "#Prints the average in the list in ml\n",
        "average = average_list[\"mag\"].mean()\n",
        "print(\"Average magnitude in ml: \", average)"
      ]
    },
    {
      "cell_type": "code",
      "execution_count": 8,
      "metadata": {
        "trusted": true
      },
      "outputs": [
        {
          "name": "stdout",
          "output_type": "stream",
          "text": [
            "Date of maximum magnitude:  2021-02-11T13:29:22.604Z\n",
            "Location of maximum magnitude:  us\n"
          ]
        }
      ],
      "source": [
        "# Find the date and Location of the Largest magnitude\n",
        "largest_magnitude_earthquakeData = earthquakeData[earthquakeData[\"mag\"] == maximum]\n",
        "\n",
        "#Variable for data and location\n",
        "magnitude_date = list(largest_magnitude_earthquakeData[\"updated\"])[0]\n",
        "magnitude_location = list(largest_magnitude_earthquakeData[\"magSource\"])[0]\n",
        "                      \n",
        "#Prints Data and location of max magnitude   \n",
        "print(\"Date of maximum magnitude: \", magnitude_date)\n",
        "print(\"Location of maximum magnitude: \", magnitude_location)"
      ]
    },
    {
      "cell_type": "code",
      "execution_count": 12,
      "metadata": {
        "trusted": true
      },
      "outputs": [
        {
          "data": {
            "image/png": "[encoded data removed]",
            "text/plain": [
              "<Figure size 640x480 with 1 Axes>"
            ]
          },
          "metadata": {},
          "output_type": "display_data"
        }
      ],
      "source": [
        "#Plot earthquakes mag 4.5+ in a histogram\n",
        "#list magnitudes greater then or equal to 4.5 \n",
        "earthquake_45 = list(earthquakeData[earthquakeData[\"magError\"] >= 4.5][\"magError\"])\n",
        "\n",
        "#prints and shows histogram chart\n",
        "earthquake_histogram = 5\n",
        "n, bins, patches = plt.hist(earthquake_45, earthquake_histogram, color= 'red', alpha=0.5)\n",
        "plt.show()"
      ]
    },
    {
      "cell_type": "code",
      "execution_count": 13,
      "metadata": {
        "trusted": true
      },
      "outputs": [
        {
          "data": {
            "image/png": "[encoded data removed]",
            "text/plain": [
              "<Figure size 640x480 with 1 Axes>"
            ]
          },
          "metadata": {},
          "output_type": "display_data"
        }
      ],
      "source": [
        "#PLot a histogram Of only earthquakes that occurred tn the US\n",
        "states = [\"al\", \"ak\", \"az\", \"ar\", \"ca\", \"co\", \"ct\", \"de\", \"dc\", \"fl\", \"ga\", \"gu\", \"hi\", \"id\", \"il\", \"in\", \"ia\", \"ks\", \"ky\", \"la\", \"me\", \"md\", \"ma\", \"mi\", \"mn\", \"ms\", \"mo\", \"mt\", \"nv\", \"nh\", \"nj\", \"nm\", \"ny\", \"nc\", \"nd\", \"cm\", \"oh\", \"ok\", \"or\", \"pa\", \"pr\", \"ri\", \"sc\", \"sd\", \"tn\", \"tx\", \"tt\", \"ut\", \"vt\", \"vi\", \"wa\", \"wv\", \"wi\", \"wy\"]\n",
        "\n",
        "#Empty List\n",
        "magnitudeData = list()\n",
        "\n",
        "#for loop to search for us states in states name \n",
        "for state in states:\n",
        "\n",
        "    #list for search for location in data\n",
        "    magnitude = list(earthquakeData[earthquakeData[\"locationSource\"] == state][\"mag\"])\n",
        "    \n",
        "    #if the length of the list is not 0 then: \n",
        "    if(len(magnitude) !=0):\n",
        "        \n",
        "        #append or attaches to the first data point\n",
        "        magnitudeData.extend(magnitude)\n",
        "        \n",
        "# pLotting the histogram from the magnitude data\n",
        "earthquake_histogram = 5\n",
        "n, bins, patches = plt.hist(magnitudeData, earthquake_histogram, color= 'red', alpha=0.5)\n",
        "plt.show()"
      ]
    },
    {
      "cell_type": "code",
      "execution_count": null,
      "metadata": {},
      "outputs": [],
      "source": []
    },
    {
      "cell_type": "code",
      "execution_count": null,
      "metadata": {},
      "outputs": [],
      "source": []
    }
  ],
  "metadata": {
    "kernelspec": {
      "display_name": "Python 3.11.0 64-bit",
      "language": "python",
      "name": "python3"
    },
    "language_info": {
      "codemirror_mode": {
        "name": "ipython",
        "version": 3
      },
      "file_extension": ".py",
      "mimetype": "text/x-python",
      "name": "python",
      "nbconvert_exporter": "python",
      "pygments_lexer": "ipython3",
      "version": "3.11.0"
    },
    "vscode": {
      "interpreter": {
        "hash": "5238573367df39f7286bb46f9ff5f08f63a01a80960060ce41e3c79b190280fa"
      }
    }
  },
  "nbformat": 4,
  "nbformat_minor": 4
}
